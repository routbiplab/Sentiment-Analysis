{
 "cells": [
  {
   "cell_type": "code",
   "execution_count": null,
   "id": "ce55efc8",
   "metadata": {},
   "outputs": [],
   "source": [
    "import pandas as pd\n",
    "import matplotlib.pyplot as plt\n",
    "%matplotlib inline\n",
    "import seaborn as sns"
   ]
  },
  {
   "cell_type": "code",
   "execution_count": null,
   "id": "409106a1",
   "metadata": {},
   "outputs": [],
   "source": [
    "## Read the data set\n",
    "df=pd.read_csv(\"Reviews.csv\")"
   ]
  },
  {
   "cell_type": "code",
   "execution_count": null,
   "id": "73fddbb0",
   "metadata": {},
   "outputs": [],
   "source": [
    "## Plot the score data\n",
    "import plotly.express as px\n",
    "\n",
    "fig=px.histogram(df,x=\"Score\")\n",
    "fig.update_layout(title=\"Review Score\")\n",
    "fig.update_traces(marker_line_width=1.5)"
   ]
  },
  {
   "cell_type": "code",
   "execution_count": null,
   "id": "1e13fa5d",
   "metadata": {},
   "outputs": [],
   "source": [
    "## Forming the word cloud to check the most frequent words used for reviews\n",
    "import nltk\n",
    "from nltk.corpus import stopwords\n",
    "from wordcloud import WordCloud\n",
    "\n",
    "## creating stopwords\n",
    "stopwords=set(stopwords.words('english'))\n",
    "stopwords.update([\"br\",\"href\"])\n",
    "text_review=\" \".join(review for review in df.Text)\n",
    "\n",
    "## creating wordcloud\n",
    "wordcloud=WordCloud(stopwords=stopwords).generate(text_review)\n",
    "\n",
    "## Plot the wordcloud data as image\n",
    "plt.imshow(wordcloud,interpolation=\"bilinear\")\n",
    "plt.savefig(\"wordcloud.png\")"
   ]
  },
  {
   "cell_type": "code",
   "execution_count": null,
   "id": "af5dc356",
   "metadata": {},
   "outputs": [],
   "source": [
    "## Now we will classify the review score as positive or negative\n",
    "## score > 3 => Positive Review = 1\n",
    "## Score < 3 => Negative Review = -1\n",
    "## Remove data having Score =3\n",
    "\n",
    "## We will create a new column \"Sentiment\" to store the positive/negative score\n",
    "import numpy as np\n",
    "\n",
    "df=df[df[\"Score\"]!=3]\n",
    "\n",
    "df[\"Sentiment\"]=np.where(df.Score>3,1,-1)\n",
    "\n",
    "df_positive=df[df[\"Sentiment\"]==1]\n",
    "df_negative=df[df[\"Sentiment\"]==-1]"
   ]
  },
  {
   "cell_type": "code",
   "execution_count": null,
   "id": "69dc531e",
   "metadata": {},
   "outputs": [],
   "source": [
    "## wordcloud for positive sentiment\n",
    "\n",
    "stopwords.update([\"br\",\"href\",\"good\",\"great\"])\n",
    "pos_summary=\" \".join(review for review in df_positive.Summary)\n",
    "\n",
    "## creating wordcloud\n",
    "wordcloud=WordCloud(stopwords=stopwords).generate(pos_summary)\n",
    "\n",
    "## Plot the wordcloud data as image\n",
    "plt.imshow(wordcloud,interpolation=\"bilinear\")\n",
    "plt.savefig(\"wordcloud-positive.png\")"
   ]
  },
  {
   "cell_type": "code",
   "execution_count": null,
   "id": "2fc28866",
   "metadata": {},
   "outputs": [],
   "source": [
    "df_positive.Summary.isnull().sum()"
   ]
  },
  {
   "cell_type": "code",
   "execution_count": null,
   "id": "c6578727",
   "metadata": {},
   "outputs": [],
   "source": [
    "df_negative.Summary.isnull().sum()"
   ]
  },
  {
   "cell_type": "code",
   "execution_count": null,
   "id": "859578e8",
   "metadata": {},
   "outputs": [],
   "source": [
    "df_negative.dropna(inplace=True)"
   ]
  },
  {
   "cell_type": "code",
   "execution_count": null,
   "id": "aa0aca3f",
   "metadata": {},
   "outputs": [],
   "source": [
    "df_negative.Summary.isnull().sum()"
   ]
  },
  {
   "cell_type": "code",
   "execution_count": null,
   "id": "acc958ee",
   "metadata": {},
   "outputs": [],
   "source": [
    "## wordcloud for negative sentiment\n",
    "neg_summary=\" \".join(review for review in df_negative.Summary)\n",
    "\n",
    "## creating wordcloud\n",
    "wordcloud=WordCloud(stopwords=stopwords).generate(neg_summary)\n",
    "\n",
    "## Plot the wordcloud data as image\n",
    "plt.imshow(wordcloud,interpolation=\"bilinear\")\n",
    "plt.savefig(\"wordcloud-negative.png\")"
   ]
  },
  {
   "cell_type": "code",
   "execution_count": null,
   "id": "84c46d16",
   "metadata": {},
   "outputs": [],
   "source": [
    "## Plotting the sentiment score\n",
    "\n",
    "df[\"Sentiment_Text\"]=np.where(df.Sentiment==1,\"Positive\",\"Negative\")\n",
    "fig=px.histogram(df,x=\"Sentiment_Text\")\n",
    "fig.update_layout(title=\"Sentiment Score\")"
   ]
  },
  {
   "cell_type": "code",
   "execution_count": null,
   "id": "51f18234",
   "metadata": {},
   "outputs": [],
   "source": [
    "## Building the model\n",
    "## we will only consider \"summary\" and \"sentiment\" for our analysis\n",
    "\n",
    "df1=df[[\"Summary\",\"Sentiment\"]]\n",
    "df1.head()"
   ]
  },
  {
   "cell_type": "code",
   "execution_count": null,
   "id": "e1fdd3be",
   "metadata": {},
   "outputs": [],
   "source": [
    "df1.isnull().sum()"
   ]
  },
  {
   "cell_type": "code",
   "execution_count": null,
   "id": "7ec53ca1",
   "metadata": {},
   "outputs": [],
   "source": [
    "df1.dropna(inplace=True)"
   ]
  },
  {
   "cell_type": "code",
   "execution_count": null,
   "id": "d945c459",
   "metadata": {},
   "outputs": [],
   "source": [
    "## cleaning the data\n",
    "\n",
    "## remove punctuations\n",
    "\n",
    "import string\n",
    "\n",
    "def remove_punc(text):\n",
    "    final=text.translate(str.maketrans('', '', string.punctuation))\n",
    "    return final\n",
    "df1[\"Summary\"]=df1.Summary.apply(remove_punc)\n",
    "df1.head()"
   ]
  },
  {
   "cell_type": "code",
   "execution_count": null,
   "id": "83ff409b",
   "metadata": {},
   "outputs": [],
   "source": [
    "## split the data in training and testing data\n",
    "from sklearn.model_selection import train_test_split\n",
    "\n",
    "x_train,x_test,y_train,y_test=train_test_split(df1[\"Summary\"],df1[\"Sentiment\"],train_size=.8)"
   ]
  },
  {
   "cell_type": "code",
   "execution_count": null,
   "id": "de38450c",
   "metadata": {},
   "outputs": [],
   "source": [
    "## convert the summary into bag of words from the df1.summary \n",
    "## We will need to convert the text into a bag-of-words model \n",
    "## since the logistic regression algorithm cannot understand text.\n",
    "from sklearn.feature_extraction.text import CountVectorizer\n",
    "\n",
    "vectorizer=CountVectorizer()\n",
    "x_train_matrix = vectorizer.fit_transform(x_train)\n",
    "x_test_matrix = vectorizer.transform(x_test)"
   ]
  },
  {
   "cell_type": "code",
   "execution_count": null,
   "id": "1ee95216",
   "metadata": {},
   "outputs": [],
   "source": [
    "## Logistic regression\n",
    "from sklearn.linear_model import LogisticRegression\n",
    "\n",
    "logit=LogisticRegression()\n",
    "logit.fit(x_train_matrix,y_train)\n",
    "y_pred=logit.predict(x_test_matrix)"
   ]
  },
  {
   "cell_type": "code",
   "execution_count": null,
   "id": "e554c947",
   "metadata": {},
   "outputs": [],
   "source": [
    "## predicting the score\n",
    "\n",
    "from sklearn.metrics import confusion_matrix,accuracy_score,classification_report\n",
    "\n",
    "print(confusion_matrix(y_test,y_pred))\n",
    "print(\"Accuracy Score\",accuracy_score(y_test,y_pred))\n",
    "print(classification_report(y_test,y_pred))"
   ]
  },
  {
   "cell_type": "code",
   "execution_count": null,
   "id": "6c91cb58",
   "metadata": {},
   "outputs": [],
   "source": []
  },
  {
   "cell_type": "code",
   "execution_count": null,
   "id": "3bfeb390",
   "metadata": {},
   "outputs": [],
   "source": []
  },
  {
   "cell_type": "code",
   "execution_count": null,
   "id": "7f3f56bc",
   "metadata": {},
   "outputs": [],
   "source": []
  }
 ],
 "metadata": {
  "kernelspec": {
   "display_name": "Python 3",
   "language": "python",
   "name": "python3"
  },
  "language_info": {
   "codemirror_mode": {
    "name": "ipython",
    "version": 3
   },
   "file_extension": ".py",
   "mimetype": "text/x-python",
   "name": "python",
   "nbconvert_exporter": "python",
   "pygments_lexer": "ipython3",
   "version": "3.8.8"
  }
 },
 "nbformat": 4,
 "nbformat_minor": 5
}
